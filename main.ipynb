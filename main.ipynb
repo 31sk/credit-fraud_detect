{
 "cells": [
  {
   "cell_type": "code",
   "execution_count": 8,
   "id": "12dc051a",
   "metadata": {},
   "outputs": [],
   "source": [
    "import pandas as pd\n",
    "import numpy as np\n",
    "from math import radians, sin, cos, sqrt, atan2\n",
    "from sklearn.preprocessing import StandardScaler\n",
    "from xgboost import XGBClassifier\n",
    "from sklearn.metrics import classification_report, confusion_matrix, roc_auc_score, precision_recall_curve\n",
    "from sklearn.model_selection import GridSearchCV\n",
    "from sklearn.ensemble import VotingClassifier, RandomForestClassifier\n",
    "import matplotlib.pyplot as plt\n",
    "import seaborn as sns\n",
    "\n",
    "# ---------------------------\n",
    "# Helper: Haversine distance\n",
    "# ---------------------------\n",
    "def haversine(lat1, lon1, lat2, lon2):\n",
    "    \"\"\"\n",
    "    Calculates the great-circle distance between two points on Earth.\n",
    "    Useful for detecting transactions far from usual customer locations.\n",
    "    \"\"\"\n",
    "    R = 6371  # Earth radius in km\n",
    "    dlat = radians(lat2 - lat1)\n",
    "    dlon = radians(lon2 - lon1)\n",
    "    a = sin(dlat/2)**2 + cos(radians(lat1)) * cos(radians(lat2)) * sin(dlon/2)**2\n",
    "    c = 2 * atan2(sqrt(a), sqrt(1 - a))\n",
    "    return R * c\n",
    "\n",
    "# --------------------------\n",
    "# Load and preprocess data\n",
    "# --------------------------\n",
    "train_df = pd.read_csv(\"C:/Users/kadus/OneDrive/Desktop/intern/fraudTrain.csv\")\n",
    "test_df = pd.read_csv(\"C:/Users/kadus/OneDrive/Desktop/intern/fraudTest.csv\")\n",
    "\n",
    "# Drop irrelevant or high-cardinality columns that could leak data or aren't generalizable\n",
    "cols_to_drop = [\n",
    "    'trans_num',                # Transaction ID (string)\n",
    "    'trans_date_trans_time',    # Timestamp (string)\n",
    "    'cc_num', 'first', 'last', 'street', 'city', 'state', 'zip', 'dob', 'unix_time', 'job', 'merchant'  # Private details\n",
    "]\n",
    "train_df.drop(columns=cols_to_drop, inplace=True, errors='ignore')\n",
    "test_df.drop(columns=cols_to_drop, inplace=True, errors='ignore')\n",
    "\n",
    "# ------------------------\n",
    "# Add Geospatial Features\n",
    "# ------------------------\n",
    "for df in [train_df, test_df]:\n",
    "    df['distance_km'] = df.apply(\n",
    "        lambda row: haversine(row['lat'], row['long'], row['merch_lat'], row['merch_long']), axis=1\n",
    "    )\n",
    "    df['is_far'] = (df['distance_km'] > df['distance_km'].quantile(0.95)).astype(int)\n",
    "\n",
    "# Drop raw geolocation columns now that distance has been extracted\n",
    "train_df.drop(columns=['lat', 'long', 'merch_lat', 'merch_long'], inplace=True)\n",
    "test_df.drop(columns=['lat', 'long', 'merch_lat', 'merch_long'], inplace=True)\n",
    "\n",
    "\n",
    "\n",
    "# --------------------------\n",
    "# One-Hot Encode Categorical Variables\n",
    "# --------------------------\n",
    "# Identify categorical columns and apply one-hot encoding\n",
    "categorical_cols = ['gender', 'category']  # For simplicity, using low-cardinality columns\n",
    "train_df = pd.get_dummies(train_df, columns=categorical_cols, drop_first=True)\n",
    "test_df = pd.get_dummies(test_df, columns=categorical_cols, drop_first=True)\n",
    "\n",
    "# Align test and train sets to ensure they have the same columns after one-hot encoding\n",
    "train_df, test_df = train_df.align(test_df, join='left', axis=1, fill_value=0)\n",
    "\n",
    "# --------------------------\n",
    "# Split Features and Labels\n",
    "# --------------------------\n",
    "X_train = train_df.drop(\"is_fraud\", axis=1)\n",
    "y_train = train_df[\"is_fraud\"]\n",
    "X_test = test_df.drop(\"is_fraud\", axis=1)\n",
    "y_test = test_df[\"is_fraud\"]\n",
    "\n",
    "# --------------------------\n",
    "# Feature Scaling\n",
    "# --------------------------\n",
    "scaler = StandardScaler()\n",
    "X_train_scaled = scaler.fit_transform(X_train)\n",
    "X_test_scaled = scaler.transform(X_test)\n",
    "\n"
   ]
  },
  {
   "cell_type": "code",
   "execution_count": 11,
   "id": "138ac996",
   "metadata": {},
   "outputs": [
    {
     "name": "stderr",
     "output_type": "stream",
     "text": [
      "C:\\Users\\kadus\\AppData\\Roaming\\Python\\Python313\\site-packages\\xgboost\\training.py:183: UserWarning: [16:22:54] WARNING: C:\\actions-runner\\_work\\xgboost\\xgboost\\src\\learner.cc:738: \n",
      "Parameters: { \"use_label_encoder\" } are not used.\n",
      "\n",
      "  bst.update(dtrain, iteration=i, fobj=obj)\n"
     ]
    },
    {
     "name": "stdout",
     "output_type": "stream",
     "text": [
      "Best parameters found:  {'colsample_bytree': 1.0, 'learning_rate': 0.01, 'max_depth': 3, 'n_estimators': 200, 'subsample': 0.9}\n"
     ]
    }
   ],
   "source": [
    "# Compute Scale for Imbalanced Classes\n",
    "# --------------------------\n",
    "scale_pos_weight = (y_train == 0).sum() / (y_train == 1).sum()\n",
    "\n",
    "# --------------------------\n",
    "# Hyperparameter Optimization using GridSearchCV\n",
    "# --------------------------\n",
    "param_grid = {\n",
    "    'learning_rate': [0.01],\n",
    "    'max_depth': [3],\n",
    "    'n_estimators': [ 200],\n",
    "    'subsample': [0.9],\n",
    "    'colsample_bytree': [ 1.0]\n",
    "}\n",
    "\n",
    "grid_search = GridSearchCV(XGBClassifier(eval_metric='logloss', use_label_encoder=False), param_grid, cv=3, n_jobs=-1)\n",
    "grid_search.fit(X_train_scaled, y_train)\n",
    "\n",
    "# Best parameters found through GridSearch\n",
    "print(\"Best parameters found: \", grid_search.best_params_)\n"
   ]
  },
  {
   "cell_type": "code",
   "execution_count": 13,
   "id": "aa233816",
   "metadata": {},
   "outputs": [
    {
     "name": "stderr",
     "output_type": "stream",
     "text": [
      "C:\\Users\\kadus\\AppData\\Roaming\\Python\\Python313\\site-packages\\xgboost\\training.py:183: UserWarning: [16:25:23] WARNING: C:\\actions-runner\\_work\\xgboost\\xgboost\\src\\learner.cc:738: \n",
      "Parameters: { \"use_label_encoder\" } are not used.\n",
      "\n",
      "  bst.update(dtrain, iteration=i, fobj=obj)\n"
     ]
    },
    {
     "data": {
      "image/png": "[encoded data removed]",
      "text/plain": [
       "<Figure size 640x480 with 1 Axes>"
      ]
     },
     "metadata": {},
     "output_type": "display_data"
    },
    {
     "name": "stdout",
     "output_type": "stream",
     "text": [
      "Confusion Matrix:\n",
      " [[551446   2128]\n",
      " [  1168    977]]\n",
      "\n",
      "Classification Report:\n",
      "               precision    recall  f1-score   support\n",
      "\n",
      "           0       1.00      1.00      1.00    553574\n",
      "           1       0.31      0.46      0.37      2145\n",
      "\n",
      "    accuracy                           0.99    555719\n",
      "   macro avg       0.66      0.73      0.68    555719\n",
      "weighted avg       1.00      0.99      0.99    555719\n",
      "\n",
      "ROC-AUC Score: 0.9681807149460977\n"
     ]
    },
    {
     "data": {
      "image/png": "[encoded data removed]",
      "text/plain": [
       "<Figure size 640x480 with 2 Axes>"
      ]
     },
     "metadata": {},
     "output_type": "display_data"
    }
   ],
   "source": [
    "# --------------------------\n",
    "# Train XGBoost Model with Best Parameters\n",
    "# --------------------------\n",
    "best_model = grid_search.best_estimator_\n",
    "\n",
    "# --------------------------\n",
    "# Adjust Class Weight (for imbalanced data)\n",
    "# --------------------------\n",
    "best_model.set_params(scale_pos_weight=scale_pos_weight)\n",
    "\n",
    "# Train the model\n",
    "best_model.fit(X_train_scaled, y_train)\n",
    "\n",
    "# --------------------------\n",
    "# Adjust Threshold using Precision-Recall Curve\n",
    "# --------------------------\n",
    "y_pred_prob = best_model.predict_proba(X_test_scaled)[:, 1]\n",
    "\n",
    "# Get precision-recall curve\n",
    "precision, recall, thresholds = precision_recall_curve(y_test, y_pred_prob)\n",
    "\n",
    "# Plot the curve to select a threshold\n",
    "plt.plot(thresholds, precision[:-1], label='Precision')\n",
    "plt.plot(thresholds, recall[:-1], label='Recall')\n",
    "plt.xlabel('Threshold')\n",
    "plt.ylabel('Score')\n",
    "plt.legend()\n",
    "plt.title('Precision-Recall Curve')\n",
    "plt.show()\n",
    "\n",
    "## Find the index of the best precision but make sure it doesn't exceed len(thresholds) - 1\n",
    "best_index = np.argmax(precision[:-1])  # ignore last precision value\n",
    "optimal_threshold = thresholds[best_index]\n",
    "\n",
    "y_pred_adjusted = (y_pred_prob > optimal_threshold).astype(int)\n",
    "\n",
    "# --------------------------\n",
    "# Model Evaluation\n",
    "# --------------------------\n",
    "# Evaluate with adjusted threshold\n",
    "print(\"Confusion Matrix:\\n\", confusion_matrix(y_test, y_pred_adjusted))\n",
    "print(\"\\nClassification Report:\\n\", classification_report(y_test, y_pred_adjusted))\n",
    "print(\"ROC-AUC Score:\", roc_auc_score(y_test, y_pred_prob))\n",
    "\n",
    "# --------------------------\n",
    "# Confusion Matrix Visualization\n",
    "# --------------------------\n",
    "sns.heatmap(confusion_matrix(y_test, y_pred_adjusted), annot=True, fmt='d', cmap='Blues')\n",
    "plt.title(\"Confusion Matrix\")\n",
    "plt.xlabel(\"Predicted\")\n",
    "plt.ylabel(\"Actual\")\n",
    "plt.show()\n"
   ]
  },
  {
   "cell_type": "code",
   "execution_count": 16,
   "id": "a85ab7f6",
   "metadata": {},
   "outputs": [
    {
     "name": "stderr",
     "output_type": "stream",
     "text": [
      "C:\\Users\\kadus\\AppData\\Roaming\\Python\\Python313\\site-packages\\xgboost\\training.py:183: UserWarning: [16:33:04] WARNING: C:\\actions-runner\\_work\\xgboost\\xgboost\\src\\learner.cc:738: \n",
      "Parameters: { \"use_label_encoder\" } are not used.\n",
      "\n",
      "  bst.update(dtrain, iteration=i, fobj=obj)\n"
     ]
    },
    {
     "name": "stdout",
     "output_type": "stream",
     "text": [
      "Confusion Matrix (Ensemble):\n",
      " [[552870    704]\n",
      " [   863   1282]]\n",
      "\n",
      "Classification Report (Ensemble):\n",
      "               precision    recall  f1-score   support\n",
      "\n",
      "           0       1.00      1.00      1.00    553574\n",
      "           1       0.65      0.60      0.62      2145\n",
      "\n",
      "    accuracy                           1.00    555719\n",
      "   macro avg       0.82      0.80      0.81    555719\n",
      "weighted avg       1.00      1.00      1.00    555719\n",
      "\n"
     ]
    }
   ],
   "source": [
    "from sklearn.linear_model import LogisticRegression\n",
    "\n",
    "\n",
    "# Combine XGBoost with Random Forest and Logistic Regression\n",
    "voting_clf = VotingClassifier(\n",
    "    estimators=[\n",
    "        ('xgb', best_model),\n",
    "        ('lr', LogisticRegression(max_iter=1000)),\n",
    "        ('rf', RandomForestClassifier())\n",
    "    ],\n",
    "    voting='soft'  # Use predicted probabilities\n",
    ")\n",
    "\n",
    "voting_clf.fit(X_train_scaled, y_train)\n",
    "\n",
    "# Evaluate the ensemble model\n",
    "y_pred_ensemble = voting_clf.predict(X_test_scaled)\n",
    "print(\"Confusion Matrix (Ensemble):\\n\", confusion_matrix(y_test, y_pred_ensemble))\n",
    "print(\"\\nClassification Report (Ensemble):\\n\", classification_report(y_test, y_pred_ensemble))"
   ]
  }
 ],
 "metadata": {
  "kernelspec": {
   "display_name": "Python 3",
   "language": "python",
   "name": "python3"
  },
  "language_info": {
   "codemirror_mode": {
    "name": "ipython",
    "version": 3
   },
   "file_extension": ".py",
   "mimetype": "text/x-python",
   "name": "python",
   "nbconvert_exporter": "python",
   "pygments_lexer": "ipython3",
   "version": "3.13.2"
  }
 },
 "nbformat": 4,
 "nbformat_minor": 5
}
